{
 "cells": [
  {
   "cell_type": "markdown",
   "id": "283a687b-65ee-4856-b358-cb2667e6cab9",
   "metadata": {},
   "source": [
    "## Object detection"
   ]
  },
  {
   "cell_type": "markdown",
   "id": "bbed50ca-c17b-43c5-8b65-a4dfeb06e0ad",
   "metadata": {},
   "source": [
    "### Install necessary dependencies "
   ]
  },
  {
   "cell_type": "code",
   "execution_count": 1,
   "id": "c54bc5ce-f1a0-4c3d-ad46-1d21d2bf1898",
   "metadata": {},
   "outputs": [
    {
     "name": "stdout",
     "output_type": "stream",
     "text": [
      "Collecting torch\n",
      "  Downloading torch-2.5.1-cp312-cp312-win_amd64.whl.metadata (28 kB)\n",
      "Requirement already satisfied: opencv-python in c:\\users\\ayodi\\anaconda3\\lib\\site-packages (4.10.0.84)\n",
      "Requirement already satisfied: filelock in c:\\users\\ayodi\\anaconda3\\lib\\site-packages (from torch) (3.13.1)\n",
      "Requirement already satisfied: typing-extensions>=4.8.0 in c:\\users\\ayodi\\anaconda3\\lib\\site-packages (from torch) (4.11.0)\n",
      "Requirement already satisfied: networkx in c:\\users\\ayodi\\anaconda3\\lib\\site-packages (from torch) (3.2.1)\n",
      "Requirement already satisfied: jinja2 in c:\\users\\ayodi\\anaconda3\\lib\\site-packages (from torch) (3.1.4)\n",
      "Requirement already satisfied: fsspec in c:\\users\\ayodi\\anaconda3\\lib\\site-packages (from torch) (2024.3.1)\n",
      "Requirement already satisfied: setuptools in c:\\users\\ayodi\\anaconda3\\lib\\site-packages (from torch) (69.5.1)\n",
      "Collecting sympy==1.13.1 (from torch)\n",
      "  Downloading sympy-1.13.1-py3-none-any.whl.metadata (12 kB)\n",
      "Requirement already satisfied: mpmath<1.4,>=1.1.0 in c:\\users\\ayodi\\anaconda3\\lib\\site-packages (from sympy==1.13.1->torch) (1.3.0)\n",
      "Requirement already satisfied: numpy>=1.21.2 in c:\\users\\ayodi\\anaconda3\\lib\\site-packages (from opencv-python) (1.26.4)\n",
      "Requirement already satisfied: MarkupSafe>=2.0 in c:\\users\\ayodi\\anaconda3\\lib\\site-packages (from jinja2->torch) (2.1.3)\n",
      "Downloading torch-2.5.1-cp312-cp312-win_amd64.whl (203.0 MB)\n",
      "   ---------------------------------------- 0.0/203.0 MB ? eta -:--:--\n",
      "   ---------------------------------------- 0.1/203.0 MB 3.3 MB/s eta 0:01:02\n",
      "   ---------------------------------------- 0.5/203.0 MB 5.6 MB/s eta 0:00:36\n",
      "   ---------------------------------------- 0.9/203.0 MB 6.8 MB/s eta 0:00:30\n",
      "   ---------------------------------------- 1.4/203.0 MB 7.9 MB/s eta 0:00:26\n",
      "   ---------------------------------------- 1.8/203.0 MB 8.1 MB/s eta 0:00:25\n",
      "   ---------------------------------------- 2.4/203.0 MB 9.0 MB/s eta 0:00:23\n",
      "    --------------------------------------- 2.8/203.0 MB 9.3 MB/s eta 0:00:22\n",
      "    --------------------------------------- 3.3/203.0 MB 9.3 MB/s eta 0:00:22\n",
      "    --------------------------------------- 4.0/203.0 MB 9.9 MB/s eta 0:00:21\n",
      "    --------------------------------------- 4.6/203.0 MB 10.1 MB/s eta 0:00:20\n",
      "   - -------------------------------------- 5.4/203.0 MB 10.9 MB/s eta 0:00:19\n",
      "   - -------------------------------------- 6.4/203.0 MB 11.7 MB/s eta 0:00:17\n",
      "   - -------------------------------------- 7.5/203.0 MB 12.7 MB/s eta 0:00:16\n",
      "   - -------------------------------------- 8.9/203.0 MB 13.8 MB/s eta 0:00:15\n",
      "   - -------------------------------------- 9.7/203.0 MB 14.4 MB/s eta 0:00:14\n",
      "   -- ------------------------------------- 10.5/203.0 MB 15.2 MB/s eta 0:00:13\n",
      "   -- ------------------------------------- 11.8/203.0 MB 18.2 MB/s eta 0:00:11\n",
      "   -- ------------------------------------- 13.4/203.0 MB 21.1 MB/s eta 0:00:09\n",
      "   -- ------------------------------------- 14.6/203.0 MB 24.3 MB/s eta 0:00:08\n",
      "   --- ------------------------------------ 15.7/203.0 MB 24.2 MB/s eta 0:00:08\n",
      "   --- ------------------------------------ 16.8/203.0 MB 25.2 MB/s eta 0:00:08\n",
      "   --- ------------------------------------ 18.2/203.0 MB 25.1 MB/s eta 0:00:08\n",
      "   --- ------------------------------------ 19.8/203.0 MB 26.2 MB/s eta 0:00:08\n",
      "   ---- ----------------------------------- 20.6/203.0 MB 27.3 MB/s eta 0:00:07\n",
      "   ---- ----------------------------------- 22.4/203.0 MB 29.7 MB/s eta 0:00:07\n",
      "   ---- ----------------------------------- 24.1/203.0 MB 29.7 MB/s eta 0:00:07\n",
      "   ----- ---------------------------------- 26.6/203.0 MB 34.6 MB/s eta 0:00:06\n",
      "   ----- ---------------------------------- 28.4/203.0 MB 36.4 MB/s eta 0:00:05\n",
      "   ------ --------------------------------- 30.5/203.0 MB 43.7 MB/s eta 0:00:04\n",
      "   ------ --------------------------------- 32.5/203.0 MB 43.7 MB/s eta 0:00:04\n",
      "   ------ --------------------------------- 34.7/203.0 MB 46.7 MB/s eta 0:00:04\n",
      "   ------- -------------------------------- 36.3/203.0 MB 43.5 MB/s eta 0:00:04\n",
      "   ------- -------------------------------- 38.5/203.0 MB 43.5 MB/s eta 0:00:04\n",
      "   ------- -------------------------------- 40.3/203.0 MB 43.5 MB/s eta 0:00:04\n",
      "   -------- ------------------------------- 42.8/203.0 MB 46.9 MB/s eta 0:00:04\n",
      "   -------- ------------------------------- 44.5/203.0 MB 43.7 MB/s eta 0:00:04\n",
      "   --------- ------------------------------ 46.5/203.0 MB 43.7 MB/s eta 0:00:04\n",
      "   --------- ------------------------------ 48.6/203.0 MB 46.9 MB/s eta 0:00:04\n",
      "   --------- ------------------------------ 49.5/203.0 MB 40.9 MB/s eta 0:00:04\n",
      "   ---------- ----------------------------- 51.6/203.0 MB 38.5 MB/s eta 0:00:04\n",
      "   ---------- ----------------------------- 53.6/203.0 MB 38.5 MB/s eta 0:00:04\n",
      "   ---------- ----------------------------- 55.4/203.0 MB 40.9 MB/s eta 0:00:04\n",
      "   ----------- ---------------------------- 57.4/203.0 MB 40.9 MB/s eta 0:00:04\n",
      "   ----------- ---------------------------- 59.2/203.0 MB 40.9 MB/s eta 0:00:04\n",
      "   ----------- ---------------------------- 60.8/203.0 MB 40.9 MB/s eta 0:00:04\n",
      "   ------------ --------------------------- 62.7/203.0 MB 38.5 MB/s eta 0:00:04\n",
      "   ------------ --------------------------- 65.0/203.0 MB 40.9 MB/s eta 0:00:04\n",
      "   ------------- -------------------------- 66.3/203.0 MB 38.5 MB/s eta 0:00:04\n",
      "   ------------- -------------------------- 67.6/203.0 MB 40.9 MB/s eta 0:00:04\n",
      "   ------------- -------------------------- 68.6/203.0 MB 34.4 MB/s eta 0:00:04\n",
      "   ------------- -------------------------- 71.0/203.0 MB 36.4 MB/s eta 0:00:04\n",
      "   -------------- ------------------------- 72.7/203.0 MB 38.5 MB/s eta 0:00:04\n",
      "   -------------- ------------------------- 75.7/203.0 MB 40.9 MB/s eta 0:00:04\n",
      "   --------------- ------------------------ 78.1/203.0 MB 50.4 MB/s eta 0:00:03\n",
      "   --------------- ------------------------ 80.8/203.0 MB 54.7 MB/s eta 0:00:03\n",
      "   ---------------- ----------------------- 82.9/203.0 MB 54.7 MB/s eta 0:00:03\n",
      "   ---------------- ----------------------- 85.4/203.0 MB 54.7 MB/s eta 0:00:03\n",
      "   ----------------- ---------------------- 88.2/203.0 MB 54.4 MB/s eta 0:00:03\n",
      "   ----------------- ---------------------- 89.1/203.0 MB 50.4 MB/s eta 0:00:03\n",
      "   ------------------ --------------------- 91.5/203.0 MB 43.7 MB/s eta 0:00:03\n",
      "   ------------------ --------------------- 93.3/203.0 MB 46.7 MB/s eta 0:00:03\n",
      "   ------------------ --------------------- 93.3/203.0 MB 43.7 MB/s eta 0:00:03\n",
      "   ------------------ --------------------- 93.3/203.0 MB 43.7 MB/s eta 0:00:03\n",
      "   ------------------- -------------------- 98.3/203.0 MB 36.4 MB/s eta 0:00:03\n",
      "   ------------------- ------------------- 100.8/203.0 MB 40.9 MB/s eta 0:00:03\n",
      "   ------------------- ------------------- 102.5/203.0 MB 40.9 MB/s eta 0:00:03\n",
      "   -------------------- ------------------ 105.1/203.0 MB 65.6 MB/s eta 0:00:02\n",
      "   -------------------- ------------------ 107.3/203.0 MB 54.4 MB/s eta 0:00:02\n",
      "   --------------------- ----------------- 110.1/203.0 MB 50.1 MB/s eta 0:00:02\n",
      "   --------------------- ----------------- 112.7/203.0 MB 50.4 MB/s eta 0:00:02\n",
      "   --------------------- ----------------- 112.7/203.0 MB 46.7 MB/s eta 0:00:02\n",
      "   --------------------- ----------------- 114.5/203.0 MB 43.7 MB/s eta 0:00:03\n",
      "   ---------------------- ---------------- 117.4/203.0 MB 43.7 MB/s eta 0:00:02\n",
      "   ---------------------- ---------------- 119.1/203.0 MB 43.7 MB/s eta 0:00:02\n",
      "   ----------------------- --------------- 121.3/203.0 MB 38.5 MB/s eta 0:00:03\n",
      "   ----------------------- --------------- 123.4/203.0 MB 54.4 MB/s eta 0:00:02\n",
      "   ------------------------ -------------- 125.4/203.0 MB 46.7 MB/s eta 0:00:02\n",
      "   ------------------------ -------------- 127.9/203.0 MB 46.9 MB/s eta 0:00:02\n",
      "   ------------------------- ------------- 130.6/203.0 MB 50.4 MB/s eta 0:00:02\n",
      "   ------------------------- ------------- 132.6/203.0 MB 46.7 MB/s eta 0:00:02\n",
      "   ------------------------- ------------- 134.8/203.0 MB 54.7 MB/s eta 0:00:02\n",
      "   -------------------------- ------------ 136.0/203.0 MB 43.7 MB/s eta 0:00:02\n",
      "   -------------------------- ------------ 138.3/203.0 MB 43.5 MB/s eta 0:00:02\n",
      "   -------------------------- ------------ 140.2/203.0 MB 40.9 MB/s eta 0:00:02\n",
      "   --------------------------- ----------- 142.3/203.0 MB 38.5 MB/s eta 0:00:02\n",
      "   --------------------------- ----------- 144.5/203.0 MB 40.9 MB/s eta 0:00:02\n",
      "   ---------------------------- ---------- 146.4/203.0 MB 43.7 MB/s eta 0:00:02\n",
      "   ---------------------------- ---------- 149.2/203.0 MB 46.7 MB/s eta 0:00:02\n",
      "   ----------------------------- --------- 151.4/203.0 MB 54.7 MB/s eta 0:00:01\n",
      "   ----------------------------- --------- 152.4/203.0 MB 46.9 MB/s eta 0:00:02\n",
      "   ----------------------------- --------- 154.1/203.0 MB 40.9 MB/s eta 0:00:02\n",
      "   ----------------------------- --------- 155.4/203.0 MB 38.5 MB/s eta 0:00:02\n",
      "   ------------------------------ -------- 157.9/203.0 MB 40.9 MB/s eta 0:00:02\n",
      "   ------------------------------ -------- 160.6/203.0 MB 40.9 MB/s eta 0:00:02\n",
      "   ------------------------------- ------- 162.5/203.0 MB 43.5 MB/s eta 0:00:01\n",
      "   ------------------------------- ------- 164.2/203.0 MB 43.5 MB/s eta 0:00:01\n",
      "   ------------------------------- ------- 166.6/203.0 MB 46.9 MB/s eta 0:00:01\n",
      "   -------------------------------- ------ 168.6/203.0 MB 50.4 MB/s eta 0:00:01\n",
      "   -------------------------------- ------ 170.1/203.0 MB 43.7 MB/s eta 0:00:01\n",
      "   -------------------------------- ------ 171.8/203.0 MB 40.9 MB/s eta 0:00:01\n",
      "   --------------------------------- ----- 172.9/203.0 MB 36.4 MB/s eta 0:00:01\n",
      "   --------------------------------- ----- 174.7/203.0 MB 38.5 MB/s eta 0:00:01\n",
      "   --------------------------------- ----- 175.9/203.0 MB 34.4 MB/s eta 0:00:01\n",
      "   --------------------------------- ----- 176.4/203.0 MB 36.3 MB/s eta 0:00:01\n",
      "   ---------------------------------- ---- 177.6/203.0 MB 28.5 MB/s eta 0:00:01\n",
      "   ---------------------------------- ---- 180.3/203.0 MB 32.7 MB/s eta 0:00:01\n",
      "   ---------------------------------- ---- 182.0/203.0 MB 32.7 MB/s eta 0:00:01\n",
      "   ----------------------------------- --- 183.2/203.0 MB 31.2 MB/s eta 0:00:01\n",
      "   ----------------------------------- --- 185.5/203.0 MB 34.4 MB/s eta 0:00:01\n",
      "   ----------------------------------- --- 187.2/203.0 MB 43.5 MB/s eta 0:00:01\n",
      "   ------------------------------------ -- 189.1/203.0 MB 38.5 MB/s eta 0:00:01\n",
      "   ------------------------------------ -- 190.1/203.0 MB 38.6 MB/s eta 0:00:01\n",
      "   ------------------------------------ -- 192.0/203.0 MB 36.4 MB/s eta 0:00:01\n",
      "   ------------------------------------- - 194.0/203.0 MB 38.5 MB/s eta 0:00:01\n",
      "   ------------------------------------- - 195.2/203.0 MB 36.3 MB/s eta 0:00:01\n",
      "   ------------------------------------- - 196.5/203.0 MB 32.8 MB/s eta 0:00:01\n",
      "   --------------------------------------  198.6/203.0 MB 34.4 MB/s eta 0:00:01\n",
      "   --------------------------------------  200.3/203.0 MB 34.4 MB/s eta 0:00:01\n",
      "   --------------------------------------  202.3/203.0 MB 36.4 MB/s eta 0:00:01\n",
      "   --------------------------------------  203.0/203.0 MB 38.5 MB/s eta 0:00:01\n",
      "   --------------------------------------  203.0/203.0 MB 38.5 MB/s eta 0:00:01\n",
      "   --------------------------------------  203.0/203.0 MB 38.5 MB/s eta 0:00:01\n",
      "   --------------------------------------  203.0/203.0 MB 38.5 MB/s eta 0:00:01\n",
      "   --------------------------------------  203.0/203.0 MB 38.5 MB/s eta 0:00:01\n",
      "   --------------------------------------  203.0/203.0 MB 38.5 MB/s eta 0:00:01\n",
      "   --------------------------------------  203.0/203.0 MB 38.5 MB/s eta 0:00:01\n",
      "   --------------------------------------  203.0/203.0 MB 38.5 MB/s eta 0:00:01\n",
      "   --------------------------------------  203.0/203.0 MB 38.5 MB/s eta 0:00:01\n",
      "   --------------------------------------  203.0/203.0 MB 38.5 MB/s eta 0:00:01\n",
      "   --------------------------------------  203.0/203.0 MB 38.5 MB/s eta 0:00:01\n",
      "   --------------------------------------- 203.0/203.0 MB 12.8 MB/s eta 0:00:00\n",
      "Downloading sympy-1.13.1-py3-none-any.whl (6.2 MB)\n",
      "   ---------------------------------------- 0.0/6.2 MB ? eta -:--:--\n",
      "   -------------- ------------------------- 2.2/6.2 MB 46.4 MB/s eta 0:00:01\n",
      "   --------------------------- ------------ 4.2/6.2 MB 44.4 MB/s eta 0:00:01\n",
      "   ---------------------------------------  6.2/6.2 MB 49.4 MB/s eta 0:00:01\n",
      "   ---------------------------------------- 6.2/6.2 MB 39.6 MB/s eta 0:00:00\n",
      "Installing collected packages: sympy, torch\n",
      "  Attempting uninstall: sympy\n",
      "    Found existing installation: sympy 1.12\n",
      "    Uninstalling sympy-1.12:\n",
      "      Successfully uninstalled sympy-1.12\n",
      "Successfully installed sympy-1.13.1 torch-2.5.1\n"
     ]
    }
   ],
   "source": [
    "!pip install torch opencv-python\n"
   ]
  },
  {
   "cell_type": "markdown",
   "id": "f5fc2943-4931-48ff-9177-485c16978944",
   "metadata": {},
   "source": [
    "### Clone YOLOV5 model repository"
   ]
  },
  {
   "cell_type": "code",
   "execution_count": 5,
   "id": "c8ac457f-2692-4b93-9404-fd7f437d6ffb",
   "metadata": {},
   "outputs": [
    {
     "name": "stderr",
     "output_type": "stream",
     "text": [
      "Cloning into 'yolov5'...\n"
     ]
    }
   ],
   "source": [
    "!git clone https://github.com/ultralytics/yolov5\n",
    "\n"
   ]
  },
  {
   "cell_type": "code",
   "execution_count": 22,
   "id": "1c0e35b1-6131-4291-a09c-603b5cb05152",
   "metadata": {},
   "outputs": [
    {
     "name": "stdout",
     "output_type": "stream",
     "text": [
      "C:\\Users\\ayodi\\Documents\\Deep Learning\\ComputerVision\\yolov5\n",
      "Requirement already satisfied: gitpython>=3.1.30 in c:\\users\\ayodi\\anaconda3\\lib\\site-packages (from -r requirements.txt (line 5)) (3.1.37)\n",
      "Requirement already satisfied: matplotlib>=3.3 in c:\\users\\ayodi\\anaconda3\\lib\\site-packages (from -r requirements.txt (line 6)) (3.8.4)\n",
      "Requirement already satisfied: numpy>=1.23.5 in c:\\users\\ayodi\\anaconda3\\lib\\site-packages (from -r requirements.txt (line 7)) (1.26.4)\n",
      "Requirement already satisfied: opencv-python>=4.1.1 in c:\\users\\ayodi\\anaconda3\\lib\\site-packages (from -r requirements.txt (line 8)) (4.10.0.84)\n",
      "Requirement already satisfied: pillow>=10.3.0 in c:\\users\\ayodi\\anaconda3\\lib\\site-packages (from -r requirements.txt (line 9)) (10.3.0)\n",
      "Requirement already satisfied: psutil in c:\\users\\ayodi\\anaconda3\\lib\\site-packages (from -r requirements.txt (line 10)) (5.9.0)\n",
      "Requirement already satisfied: PyYAML>=5.3.1 in c:\\users\\ayodi\\anaconda3\\lib\\site-packages (from -r requirements.txt (line 11)) (6.0.1)\n",
      "Requirement already satisfied: requests>=2.32.2 in c:\\users\\ayodi\\anaconda3\\lib\\site-packages (from -r requirements.txt (line 12)) (2.32.2)\n",
      "Requirement already satisfied: scipy>=1.4.1 in c:\\users\\ayodi\\anaconda3\\lib\\site-packages (from -r requirements.txt (line 13)) (1.13.1)\n",
      "Collecting thop>=0.1.1 (from -r requirements.txt (line 14))\n",
      "  Downloading thop-0.1.1.post2209072238-py3-none-any.whl.metadata (2.7 kB)\n",
      "Requirement already satisfied: torch>=1.8.0 in c:\\users\\ayodi\\anaconda3\\lib\\site-packages (from -r requirements.txt (line 15)) (2.5.1)\n",
      "Collecting torchvision>=0.9.0 (from -r requirements.txt (line 16))\n",
      "  Downloading torchvision-0.20.1-cp312-cp312-win_amd64.whl.metadata (6.2 kB)\n",
      "Requirement already satisfied: tqdm>=4.66.3 in c:\\users\\ayodi\\anaconda3\\lib\\site-packages (from -r requirements.txt (line 17)) (4.66.4)\n",
      "Collecting ultralytics>=8.2.34 (from -r requirements.txt (line 18))\n",
      "  Downloading ultralytics-8.3.28-py3-none-any.whl.metadata (35 kB)\n",
      "Requirement already satisfied: pandas>=1.1.4 in c:\\users\\ayodi\\anaconda3\\lib\\site-packages (from -r requirements.txt (line 27)) (2.2.2)\n",
      "Requirement already satisfied: seaborn>=0.11.0 in c:\\users\\ayodi\\anaconda3\\lib\\site-packages (from -r requirements.txt (line 28)) (0.13.2)\n",
      "Collecting setuptools>=70.0.0 (from -r requirements.txt (line 42))\n",
      "  Downloading setuptools-75.3.0-py3-none-any.whl.metadata (6.9 kB)\n",
      "Requirement already satisfied: gitdb<5,>=4.0.1 in c:\\users\\ayodi\\anaconda3\\lib\\site-packages (from gitpython>=3.1.30->-r requirements.txt (line 5)) (4.0.7)\n",
      "Requirement already satisfied: contourpy>=1.0.1 in c:\\users\\ayodi\\anaconda3\\lib\\site-packages (from matplotlib>=3.3->-r requirements.txt (line 6)) (1.2.0)\n",
      "Requirement already satisfied: cycler>=0.10 in c:\\users\\ayodi\\anaconda3\\lib\\site-packages (from matplotlib>=3.3->-r requirements.txt (line 6)) (0.11.0)\n",
      "Requirement already satisfied: fonttools>=4.22.0 in c:\\users\\ayodi\\anaconda3\\lib\\site-packages (from matplotlib>=3.3->-r requirements.txt (line 6)) (4.51.0)\n",
      "Requirement already satisfied: kiwisolver>=1.3.1 in c:\\users\\ayodi\\anaconda3\\lib\\site-packages (from matplotlib>=3.3->-r requirements.txt (line 6)) (1.4.4)\n",
      "Requirement already satisfied: packaging>=20.0 in c:\\users\\ayodi\\anaconda3\\lib\\site-packages (from matplotlib>=3.3->-r requirements.txt (line 6)) (23.2)\n",
      "Requirement already satisfied: pyparsing>=2.3.1 in c:\\users\\ayodi\\anaconda3\\lib\\site-packages (from matplotlib>=3.3->-r requirements.txt (line 6)) (3.0.9)\n",
      "Requirement already satisfied: python-dateutil>=2.7 in c:\\users\\ayodi\\anaconda3\\lib\\site-packages (from matplotlib>=3.3->-r requirements.txt (line 6)) (2.9.0.post0)\n",
      "Requirement already satisfied: charset-normalizer<4,>=2 in c:\\users\\ayodi\\anaconda3\\lib\\site-packages (from requests>=2.32.2->-r requirements.txt (line 12)) (2.0.4)\n",
      "Requirement already satisfied: idna<4,>=2.5 in c:\\users\\ayodi\\anaconda3\\lib\\site-packages (from requests>=2.32.2->-r requirements.txt (line 12)) (3.7)\n",
      "Requirement already satisfied: urllib3<3,>=1.21.1 in c:\\users\\ayodi\\anaconda3\\lib\\site-packages (from requests>=2.32.2->-r requirements.txt (line 12)) (2.2.2)\n",
      "Requirement already satisfied: certifi>=2017.4.17 in c:\\users\\ayodi\\anaconda3\\lib\\site-packages (from requests>=2.32.2->-r requirements.txt (line 12)) (2024.8.30)\n",
      "Requirement already satisfied: filelock in c:\\users\\ayodi\\anaconda3\\lib\\site-packages (from torch>=1.8.0->-r requirements.txt (line 15)) (3.13.1)\n",
      "Requirement already satisfied: typing-extensions>=4.8.0 in c:\\users\\ayodi\\anaconda3\\lib\\site-packages (from torch>=1.8.0->-r requirements.txt (line 15)) (4.11.0)\n",
      "Requirement already satisfied: networkx in c:\\users\\ayodi\\anaconda3\\lib\\site-packages (from torch>=1.8.0->-r requirements.txt (line 15)) (3.2.1)\n",
      "Requirement already satisfied: jinja2 in c:\\users\\ayodi\\anaconda3\\lib\\site-packages (from torch>=1.8.0->-r requirements.txt (line 15)) (3.1.4)\n",
      "Requirement already satisfied: fsspec in c:\\users\\ayodi\\anaconda3\\lib\\site-packages (from torch>=1.8.0->-r requirements.txt (line 15)) (2024.3.1)\n",
      "Requirement already satisfied: sympy==1.13.1 in c:\\users\\ayodi\\anaconda3\\lib\\site-packages (from torch>=1.8.0->-r requirements.txt (line 15)) (1.13.1)\n",
      "Requirement already satisfied: mpmath<1.4,>=1.1.0 in c:\\users\\ayodi\\anaconda3\\lib\\site-packages (from sympy==1.13.1->torch>=1.8.0->-r requirements.txt (line 15)) (1.3.0)\n",
      "Requirement already satisfied: colorama in c:\\users\\ayodi\\anaconda3\\lib\\site-packages (from tqdm>=4.66.3->-r requirements.txt (line 17)) (0.4.6)\n",
      "Requirement already satisfied: py-cpuinfo in c:\\users\\ayodi\\anaconda3\\lib\\site-packages (from ultralytics>=8.2.34->-r requirements.txt (line 18)) (9.0.0)\n",
      "Collecting ultralytics-thop>=2.0.0 (from ultralytics>=8.2.34->-r requirements.txt (line 18))\n",
      "  Downloading ultralytics_thop-2.0.11-py3-none-any.whl.metadata (9.4 kB)\n",
      "Requirement already satisfied: pytz>=2020.1 in c:\\users\\ayodi\\anaconda3\\lib\\site-packages (from pandas>=1.1.4->-r requirements.txt (line 27)) (2024.1)\n",
      "Requirement already satisfied: tzdata>=2022.7 in c:\\users\\ayodi\\anaconda3\\lib\\site-packages (from pandas>=1.1.4->-r requirements.txt (line 27)) (2023.3)\n",
      "Requirement already satisfied: smmap<5,>=3.0.1 in c:\\users\\ayodi\\anaconda3\\lib\\site-packages (from gitdb<5,>=4.0.1->gitpython>=3.1.30->-r requirements.txt (line 5)) (4.0.0)\n",
      "Requirement already satisfied: six>=1.5 in c:\\users\\ayodi\\anaconda3\\lib\\site-packages (from python-dateutil>=2.7->matplotlib>=3.3->-r requirements.txt (line 6)) (1.16.0)\n",
      "Requirement already satisfied: MarkupSafe>=2.0 in c:\\users\\ayodi\\anaconda3\\lib\\site-packages (from jinja2->torch>=1.8.0->-r requirements.txt (line 15)) (2.1.3)\n",
      "Using cached thop-0.1.1.post2209072238-py3-none-any.whl (15 kB)\n",
      "Downloading torchvision-0.20.1-cp312-cp312-win_amd64.whl (1.6 MB)\n",
      "   ---------------------------------------- 0.0/1.6 MB ? eta -:--:--\n",
      "   ----- ---------------------------------- 0.2/1.6 MB 6.9 MB/s eta 0:00:01\n",
      "   ------------------------- -------------- 1.0/1.6 MB 12.9 MB/s eta 0:00:01\n",
      "   ---------------------------------------  1.6/1.6 MB 12.4 MB/s eta 0:00:01\n",
      "   ---------------------------------------- 1.6/1.6 MB 11.0 MB/s eta 0:00:00\n",
      "Downloading ultralytics-8.3.28-py3-none-any.whl (881 kB)\n",
      "   ---------------------------------------- 0.0/881.2 kB ? eta -:--:--\n",
      "   --------------------------------------- 881.2/881.2 kB 28.1 MB/s eta 0:00:00\n",
      "Downloading setuptools-75.3.0-py3-none-any.whl (1.3 MB)\n",
      "   ---------------------------------------- 0.0/1.3 MB ? eta -:--:--\n",
      "   ------------------------------------- -- 1.2/1.3 MB 37.7 MB/s eta 0:00:01\n",
      "   ---------------------------------------- 1.3/1.3 MB 20.0 MB/s eta 0:00:00\n",
      "Downloading ultralytics_thop-2.0.11-py3-none-any.whl (26 kB)\n",
      "Installing collected packages: setuptools, ultralytics-thop, torchvision, thop, ultralytics\n",
      "  Attempting uninstall: setuptools\n",
      "    Found existing installation: setuptools 69.5.1\n",
      "    Uninstalling setuptools-69.5.1:\n",
      "      Successfully uninstalled setuptools-69.5.1\n",
      "Successfully installed setuptools-75.3.0 thop-0.1.1.post2209072238 torchvision-0.20.1 ultralytics-8.3.28 ultralytics-thop-2.0.11\n"
     ]
    }
   ],
   "source": [
    "%cd \"C:/Users/ayodi/Documents/Deep Learning/ComputerVision/yolov5\"\n",
    "\n",
    "!pip install -r requirements.txt"
   ]
  },
  {
   "cell_type": "markdown",
   "id": "dec50ec9-9044-4b27-8e9e-8af104b6c12e",
   "metadata": {},
   "source": [
    "### Load the YOLOv5 Model"
   ]
  },
  {
   "cell_type": "markdown",
   "id": "358a2fdd-190d-4fb1-af1d-437088224b6a",
   "metadata": {},
   "source": [
    "##### Load \"yolov5s\" for a smaller, faster model)"
   ]
  },
  {
   "cell_type": "code",
   "execution_count": 23,
   "id": "4dd1b59a-b5c5-4727-afce-4f8574e85dd4",
   "metadata": {},
   "outputs": [
    {
     "name": "stderr",
     "output_type": "stream",
     "text": [
      "C:\\Users\\ayodi\\anaconda3\\Lib\\site-packages\\torch\\hub.py:330: UserWarning: You are about to download and run code from an untrusted repository. In a future release, this won't be allowed. To add the repository to your trusted list, change the command to {calling_fn}(..., trust_repo=False) and a command prompt will appear asking for an explicit confirmation of trust, or load(..., trust_repo=True), which will assume that the prompt is to be answered with 'yes'. You can also use load(..., trust_repo='check') which will only prompt for confirmation if the repo is not already trusted. This will eventually be the default behaviour\n",
      "  warnings.warn(\n",
      "Downloading: \"https://github.com/ultralytics/yolov5/zipball/master\" to C:\\Users\\ayodi/.cache\\torch\\hub\\master.zip\n"
     ]
    },
    {
     "name": "stdout",
     "output_type": "stream",
     "text": [
      "Creating new Ultralytics Settings v0.0.6 file  \n",
      "View Ultralytics Settings with 'yolo settings' or at 'C:\\Users\\ayodi\\AppData\\Roaming\\Ultralytics\\settings.json'\n",
      "Update Settings with 'yolo settings key=value', i.e. 'yolo settings runs_dir=path/to/dir'. For help see https://docs.ultralytics.com/quickstart/#ultralytics-settings.\n"
     ]
    },
    {
     "name": "stderr",
     "output_type": "stream",
     "text": [
      "YOLOv5  2024-11-9 Python-3.12.4 torch-2.5.1+cpu CPU\n",
      "\n",
      "Downloading https://github.com/ultralytics/yolov5/releases/download/v7.0/yolov5s.pt to yolov5s.pt...\n",
      "100%|██████████| 14.1M/14.1M [00:00<00:00, 25.4MB/s]\n",
      "\n",
      "Fusing layers... \n",
      "YOLOv5s summary: 213 layers, 7225885 parameters, 0 gradients, 16.4 GFLOPs\n",
      "Adding AutoShape... \n"
     ]
    }
   ],
   "source": [
    "import torch\n",
    "\n",
    "model = torch.hub.load('ultralytics/yolov5', 'yolov5s', pretrained=True)"
   ]
  },
  {
   "cell_type": "markdown",
   "id": "b2b51f59-311d-4a65-8723-0c639083ca89",
   "metadata": {},
   "source": [
    "##### Define Object Detection Function"
   ]
  },
  {
   "cell_type": "code",
   "execution_count": 55,
   "id": "57d3d92c-ef50-43c5-8730-9c3a1bde4ffe",
   "metadata": {},
   "outputs": [],
   "source": [
    "import torch\n",
    "import cv2\n",
    "import matplotlib.pyplot as plt\n",
    "\n",
    "def detect_objects(image_path):\n",
    "    # Load image\n",
    "    img = cv2.imread(image_path)\n",
    "    img_rgb = cv2.cvtColor(img, cv2.COLOR_BGR2RGB)\n",
    "\n",
    "    # Perform object detection\n",
    "    results = model(img_rgb)\n",
    "\n",
    "    # Extract detection details\n",
    "    detections = results.pandas().xyxy[0]  # Bounding box coordinates in a pandas DataFrame\n",
    "\n",
    "    # Draw bounding boxes and labels\n",
    "    for _, row in detections.iterrows():\n",
    "        x1, y1, x2, y2 = int(row['xmin']), int(row['ymin']), int(row['xmax']), int(row['ymax'])\n",
    "        label = f\"{row['name']} ({row['confidence']:.2f})\"\n",
    "        \n",
    "        # Draw bounding box\n",
    "        cv2.rectangle(img_rgb, (x1, y1), (x2, y2), (255, 0, 0), 2)\n",
    "        \n",
    "        # Put label above bounding box\n",
    "        cv2.putText(img_rgb, label, (x1, y1 - 10), cv2.FONT_HERSHEY_SIMPLEX, 0.5, (255, 0, 0), 2)\n",
    "\n",
    "    # Display the image with detections\n",
    "    plt.imshow(img_rgb)\n",
    "    plt.axis('off')\n",
    "    plt.show()\n"
   ]
  },
  {
   "cell_type": "code",
   "execution_count": 56,
   "id": "479860e9-8469-4691-9451-8d5428a67973",
   "metadata": {
    "scrolled": true
   },
   "outputs": [
    {
     "name": "stderr",
     "output_type": "stream",
     "text": [
      "C:\\Users\\ayodi/.cache\\torch\\hub\\ultralytics_yolov5_master\\models\\common.py:892: FutureWarning: `torch.cuda.amp.autocast(args...)` is deprecated. Please use `torch.amp.autocast('cuda', args...)` instead.\n",
      "  with amp.autocast(autocast):\n"
     ]
    }
   ],
   "source": [
    "detect_objects('C:/Users/ayodi/Documents/Deep Learning/ComputerVision/milan.jpg')"
   ]
  },
  {
   "cell_type": "code",
   "execution_count": null,
   "id": "8d4ab946-0228-4ec9-b7eb-1224dabf2287",
   "metadata": {},
   "outputs": [],
   "source": []
  }
 ],
 "metadata": {
  "kernelspec": {
   "display_name": "Python 3 (ipykernel)",
   "language": "python",
   "name": "python3"
  },
  "language_info": {
   "codemirror_mode": {
    "name": "ipython",
    "version": 3
   },
   "file_extension": ".py",
   "mimetype": "text/x-python",
   "name": "python",
   "nbconvert_exporter": "python",
   "pygments_lexer": "ipython3",
   "version": "3.12.4"
  }
 },
 "nbformat": 4,
 "nbformat_minor": 5
}
