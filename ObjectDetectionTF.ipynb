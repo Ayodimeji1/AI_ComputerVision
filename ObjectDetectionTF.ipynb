{
 "cells": [
  {
   "cell_type": "markdown",
   "id": "d04211cb-4c59-4d10-986e-8306472d1f4a",
   "metadata": {},
   "source": [
    "## Object Detection with TensorflowAPI"
   ]
  },
  {
   "cell_type": "code",
   "execution_count": null,
   "id": "053828c0-4444-44da-a513-3c8041f8629e",
   "metadata": {},
   "outputs": [],
   "source": [
    "#### Install Necessary depedencies "
   ]
  }
 ],
 "metadata": {
  "kernelspec": {
   "display_name": "Python 3 (ipykernel)",
   "language": "python",
   "name": "python3"
  },
  "language_info": {
   "codemirror_mode": {
    "name": "ipython",
    "version": 3
   },
   "file_extension": ".py",
   "mimetype": "text/x-python",
   "name": "python",
   "nbconvert_exporter": "python",
   "pygments_lexer": "ipython3",
   "version": "3.12.4"
  }
 },
 "nbformat": 4,
 "nbformat_minor": 5
}
